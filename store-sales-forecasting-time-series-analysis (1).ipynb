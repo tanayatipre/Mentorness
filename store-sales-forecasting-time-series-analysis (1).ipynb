{
 "cells": [
  {
   "cell_type": "markdown",
   "metadata": {},
   "source": [
    "# Introduction"
   ]
  },
  {
   "cell_type": "markdown",
   "metadata": {},
   "source": [
    "This script performs time series analysis on a dataset containing sales data from a furniture store. The goal is to forecast future sales based on historical data. \n",
    "Time series analysis is crucial for businesses to understand patterns, trends, and seasonal variations in their sales, enabling better decision-making and resource allocation.\n",
    "\n",
    "Time series analysis entails examining sequential data points collected over a consistent interval, typically over time. By leveraging this historical information, businesses can uncover underlying patterns, seasonality, and trends within their sales data.\n"
   ]
  },
  {
   "cell_type": "markdown",
   "metadata": {},
   "source": [
    "# 1. Importing Libraries"
   ]
  },
  {
   "cell_type": "code",
   "execution_count": 1,
   "metadata": {
    "execution": {
     "iopub.execute_input": "2024-04-20T19:08:58.768095Z",
     "iopub.status.busy": "2024-04-20T19:08:58.767624Z",
     "iopub.status.idle": "2024-04-20T19:09:00.716181Z",
     "shell.execute_reply": "2024-04-20T19:09:00.714285Z",
     "shell.execute_reply.started": "2024-04-20T19:08:58.768057Z"
    }
   },
   "outputs": [],
   "source": [
    "import pandas as pd\n",
    "import numpy as np\n",
    "import seaborn as sns\n",
    "import matplotlib.pyplot as plt\n",
    "import plotly.express as px\n",
    "import plotly.graph_objects as go\n",
    "import warnings\n",
    "warnings.filterwarnings('ignore')\n",
    "\n",
    "from statsmodels.graphics.tsaplots import plot_acf\n",
    "from statsmodels.tsa.stattools import adfuller\n",
    "from statsmodels.tsa.seasonal import seasonal_decompose  \n",
    "\n",
    "from sklearn.model_selection import train_test_split"
   ]
  },
  {
   "cell_type": "markdown",
   "metadata": {},
   "source": [
    "# 2. Loading Dataset"
   ]
  },
  {
   "cell_type": "code",
   "execution_count": 2,
   "metadata": {
    "execution": {
     "iopub.execute_input": "2024-04-20T19:09:00.721229Z",
     "iopub.status.busy": "2024-04-20T19:09:00.720139Z",
     "iopub.status.idle": "2024-04-20T19:09:00.768081Z",
     "shell.execute_reply": "2024-04-20T19:09:00.765797Z",
     "shell.execute_reply.started": "2024-04-20T19:09:00.721167Z"
    }
   },
   "outputs": [],
   "source": [
    "\n",
    "sales = pd.read_csv('Super_Store_data.csv', encoding='latin1')\n"
   ]
  },
  {
   "cell_type": "markdown",
   "metadata": {},
   "source": [
    "# 3. Data Exploration"
   ]
  },
  {
   "cell_type": "code",
   "execution_count": 3,
   "metadata": {
    "execution": {
     "iopub.execute_input": "2024-04-20T19:09:00.770922Z",
     "iopub.status.busy": "2024-04-20T19:09:00.770426Z",
     "iopub.status.idle": "2024-04-20T19:09:00.812806Z",
     "shell.execute_reply": "2024-04-20T19:09:00.810682Z",
     "shell.execute_reply.started": "2024-04-20T19:09:00.770884Z"
    }
   },
   "outputs": [
    {
     "data": {
      "text/html": [
       "<div>\n",
       "<style scoped>\n",
       "    .dataframe tbody tr th:only-of-type {\n",
       "        vertical-align: middle;\n",
       "    }\n",
       "\n",
       "    .dataframe tbody tr th {\n",
       "        vertical-align: top;\n",
       "    }\n",
       "\n",
       "    .dataframe thead th {\n",
       "        text-align: right;\n",
       "    }\n",
       "</style>\n",
       "<table border=\"1\" class=\"dataframe\">\n",
       "  <thead>\n",
       "    <tr style=\"text-align: right;\">\n",
       "      <th></th>\n",
       "      <th>Row ID</th>\n",
       "      <th>Order ID</th>\n",
       "      <th>Order Date</th>\n",
       "      <th>Ship Date</th>\n",
       "      <th>Ship Mode</th>\n",
       "      <th>Customer ID</th>\n",
       "      <th>Customer Name</th>\n",
       "      <th>Segment</th>\n",
       "      <th>Country</th>\n",
       "      <th>City</th>\n",
       "      <th>...</th>\n",
       "      <th>Postal Code</th>\n",
       "      <th>Region</th>\n",
       "      <th>Product ID</th>\n",
       "      <th>Category</th>\n",
       "      <th>Sub-Category</th>\n",
       "      <th>Product Name</th>\n",
       "      <th>Sales</th>\n",
       "      <th>Quantity</th>\n",
       "      <th>Discount</th>\n",
       "      <th>Profit</th>\n",
       "    </tr>\n",
       "  </thead>\n",
       "  <tbody>\n",
       "    <tr>\n",
       "      <th>0</th>\n",
       "      <td>1</td>\n",
       "      <td>CA-2016-152156</td>\n",
       "      <td>11/8/2016</td>\n",
       "      <td>11/11/2016</td>\n",
       "      <td>Second Class</td>\n",
       "      <td>CG-12520</td>\n",
       "      <td>Claire Gute</td>\n",
       "      <td>Consumer</td>\n",
       "      <td>United States</td>\n",
       "      <td>Henderson</td>\n",
       "      <td>...</td>\n",
       "      <td>42420</td>\n",
       "      <td>South</td>\n",
       "      <td>FUR-BO-10001798</td>\n",
       "      <td>Furniture</td>\n",
       "      <td>Bookcases</td>\n",
       "      <td>Bush Somerset Collection Bookcase</td>\n",
       "      <td>261.9600</td>\n",
       "      <td>2</td>\n",
       "      <td>0.00</td>\n",
       "      <td>41.9136</td>\n",
       "    </tr>\n",
       "    <tr>\n",
       "      <th>1</th>\n",
       "      <td>2</td>\n",
       "      <td>CA-2016-152156</td>\n",
       "      <td>11/8/2016</td>\n",
       "      <td>11/11/2016</td>\n",
       "      <td>Second Class</td>\n",
       "      <td>CG-12520</td>\n",
       "      <td>Claire Gute</td>\n",
       "      <td>Consumer</td>\n",
       "      <td>United States</td>\n",
       "      <td>Henderson</td>\n",
       "      <td>...</td>\n",
       "      <td>42420</td>\n",
       "      <td>South</td>\n",
       "      <td>FUR-CH-10000454</td>\n",
       "      <td>Furniture</td>\n",
       "      <td>Chairs</td>\n",
       "      <td>Hon Deluxe Fabric Upholstered Stacking Chairs,...</td>\n",
       "      <td>731.9400</td>\n",
       "      <td>3</td>\n",
       "      <td>0.00</td>\n",
       "      <td>219.5820</td>\n",
       "    </tr>\n",
       "    <tr>\n",
       "      <th>2</th>\n",
       "      <td>4</td>\n",
       "      <td>US-2015-108966</td>\n",
       "      <td>10/11/2015</td>\n",
       "      <td>10/18/2015</td>\n",
       "      <td>Standard Class</td>\n",
       "      <td>SO-20335</td>\n",
       "      <td>Sean O'Donnell</td>\n",
       "      <td>Consumer</td>\n",
       "      <td>United States</td>\n",
       "      <td>Fort Lauderdale</td>\n",
       "      <td>...</td>\n",
       "      <td>33311</td>\n",
       "      <td>South</td>\n",
       "      <td>FUR-TA-10000577</td>\n",
       "      <td>Furniture</td>\n",
       "      <td>Tables</td>\n",
       "      <td>Bretford CR4500 Series Slim Rectangular Table</td>\n",
       "      <td>957.5775</td>\n",
       "      <td>5</td>\n",
       "      <td>0.45</td>\n",
       "      <td>-383.0310</td>\n",
       "    </tr>\n",
       "    <tr>\n",
       "      <th>3</th>\n",
       "      <td>6</td>\n",
       "      <td>CA-2014-115812</td>\n",
       "      <td>6/9/2014</td>\n",
       "      <td>6/14/2014</td>\n",
       "      <td>Standard Class</td>\n",
       "      <td>BH-11710</td>\n",
       "      <td>Brosina Hoffman</td>\n",
       "      <td>Consumer</td>\n",
       "      <td>United States</td>\n",
       "      <td>Los Angeles</td>\n",
       "      <td>...</td>\n",
       "      <td>90032</td>\n",
       "      <td>West</td>\n",
       "      <td>FUR-FU-10001487</td>\n",
       "      <td>Furniture</td>\n",
       "      <td>Furnishings</td>\n",
       "      <td>Eldon Expressions Wood and Plastic Desk Access...</td>\n",
       "      <td>48.8600</td>\n",
       "      <td>7</td>\n",
       "      <td>0.00</td>\n",
       "      <td>14.1694</td>\n",
       "    </tr>\n",
       "    <tr>\n",
       "      <th>4</th>\n",
       "      <td>11</td>\n",
       "      <td>CA-2014-115812</td>\n",
       "      <td>6/9/2014</td>\n",
       "      <td>6/14/2014</td>\n",
       "      <td>Standard Class</td>\n",
       "      <td>BH-11710</td>\n",
       "      <td>Brosina Hoffman</td>\n",
       "      <td>Consumer</td>\n",
       "      <td>United States</td>\n",
       "      <td>Los Angeles</td>\n",
       "      <td>...</td>\n",
       "      <td>90032</td>\n",
       "      <td>West</td>\n",
       "      <td>FUR-TA-10001539</td>\n",
       "      <td>Furniture</td>\n",
       "      <td>Tables</td>\n",
       "      <td>Chromcraft Rectangular Conference Tables</td>\n",
       "      <td>1706.1840</td>\n",
       "      <td>9</td>\n",
       "      <td>0.20</td>\n",
       "      <td>85.3092</td>\n",
       "    </tr>\n",
       "  </tbody>\n",
       "</table>\n",
       "<p>5 rows × 21 columns</p>\n",
       "</div>"
      ],
      "text/plain": [
       "   Row ID        Order ID  Order Date   Ship Date       Ship Mode Customer ID  \\\n",
       "0       1  CA-2016-152156   11/8/2016  11/11/2016    Second Class    CG-12520   \n",
       "1       2  CA-2016-152156   11/8/2016  11/11/2016    Second Class    CG-12520   \n",
       "2       4  US-2015-108966  10/11/2015  10/18/2015  Standard Class    SO-20335   \n",
       "3       6  CA-2014-115812    6/9/2014   6/14/2014  Standard Class    BH-11710   \n",
       "4      11  CA-2014-115812    6/9/2014   6/14/2014  Standard Class    BH-11710   \n",
       "\n",
       "     Customer Name   Segment        Country             City  ... Postal Code  \\\n",
       "0      Claire Gute  Consumer  United States        Henderson  ...       42420   \n",
       "1      Claire Gute  Consumer  United States        Henderson  ...       42420   \n",
       "2   Sean O'Donnell  Consumer  United States  Fort Lauderdale  ...       33311   \n",
       "3  Brosina Hoffman  Consumer  United States      Los Angeles  ...       90032   \n",
       "4  Brosina Hoffman  Consumer  United States      Los Angeles  ...       90032   \n",
       "\n",
       "   Region       Product ID   Category Sub-Category  \\\n",
       "0   South  FUR-BO-10001798  Furniture    Bookcases   \n",
       "1   South  FUR-CH-10000454  Furniture       Chairs   \n",
       "2   South  FUR-TA-10000577  Furniture       Tables   \n",
       "3    West  FUR-FU-10001487  Furniture  Furnishings   \n",
       "4    West  FUR-TA-10001539  Furniture       Tables   \n",
       "\n",
       "                                        Product Name      Sales  Quantity  \\\n",
       "0                  Bush Somerset Collection Bookcase   261.9600         2   \n",
       "1  Hon Deluxe Fabric Upholstered Stacking Chairs,...   731.9400         3   \n",
       "2      Bretford CR4500 Series Slim Rectangular Table   957.5775         5   \n",
       "3  Eldon Expressions Wood and Plastic Desk Access...    48.8600         7   \n",
       "4           Chromcraft Rectangular Conference Tables  1706.1840         9   \n",
       "\n",
       "   Discount    Profit  \n",
       "0      0.00   41.9136  \n",
       "1      0.00  219.5820  \n",
       "2      0.45 -383.0310  \n",
       "3      0.00   14.1694  \n",
       "4      0.20   85.3092  \n",
       "\n",
       "[5 rows x 21 columns]"
      ]
     },
     "execution_count": 3,
     "metadata": {},
     "output_type": "execute_result"
    }
   ],
   "source": [
    "sales.head(5)"
   ]
  },
  {
   "cell_type": "code",
   "execution_count": 4,
   "metadata": {
    "execution": {
     "iopub.execute_input": "2024-04-20T19:09:00.815486Z",
     "iopub.status.busy": "2024-04-20T19:09:00.815037Z",
     "iopub.status.idle": "2024-04-20T19:09:00.852585Z",
     "shell.execute_reply": "2024-04-20T19:09:00.850668Z",
     "shell.execute_reply.started": "2024-04-20T19:09:00.815450Z"
    }
   },
   "outputs": [
    {
     "data": {
      "text/html": [
       "<div>\n",
       "<style scoped>\n",
       "    .dataframe tbody tr th:only-of-type {\n",
       "        vertical-align: middle;\n",
       "    }\n",
       "\n",
       "    .dataframe tbody tr th {\n",
       "        vertical-align: top;\n",
       "    }\n",
       "\n",
       "    .dataframe thead th {\n",
       "        text-align: right;\n",
       "    }\n",
       "</style>\n",
       "<table border=\"1\" class=\"dataframe\">\n",
       "  <thead>\n",
       "    <tr style=\"text-align: right;\">\n",
       "      <th></th>\n",
       "      <th>Row ID</th>\n",
       "      <th>Order ID</th>\n",
       "      <th>Order Date</th>\n",
       "      <th>Ship Date</th>\n",
       "      <th>Ship Mode</th>\n",
       "      <th>Customer ID</th>\n",
       "      <th>Customer Name</th>\n",
       "      <th>Segment</th>\n",
       "      <th>Country</th>\n",
       "      <th>City</th>\n",
       "      <th>...</th>\n",
       "      <th>Postal Code</th>\n",
       "      <th>Region</th>\n",
       "      <th>Product ID</th>\n",
       "      <th>Category</th>\n",
       "      <th>Sub-Category</th>\n",
       "      <th>Product Name</th>\n",
       "      <th>Sales</th>\n",
       "      <th>Quantity</th>\n",
       "      <th>Discount</th>\n",
       "      <th>Profit</th>\n",
       "    </tr>\n",
       "  </thead>\n",
       "  <tbody>\n",
       "    <tr>\n",
       "      <th>2116</th>\n",
       "      <td>9963</td>\n",
       "      <td>CA-2015-168088</td>\n",
       "      <td>3/19/2015</td>\n",
       "      <td>3/22/2015</td>\n",
       "      <td>First Class</td>\n",
       "      <td>CM-12655</td>\n",
       "      <td>Corinna Mitchell</td>\n",
       "      <td>Home Office</td>\n",
       "      <td>United States</td>\n",
       "      <td>Houston</td>\n",
       "      <td>...</td>\n",
       "      <td>77041</td>\n",
       "      <td>Central</td>\n",
       "      <td>FUR-BO-10004218</td>\n",
       "      <td>Furniture</td>\n",
       "      <td>Bookcases</td>\n",
       "      <td>Bush Heritage Pine Collection 5-Shelf Bookcase...</td>\n",
       "      <td>383.4656</td>\n",
       "      <td>4</td>\n",
       "      <td>0.32</td>\n",
       "      <td>-67.6704</td>\n",
       "    </tr>\n",
       "    <tr>\n",
       "      <th>2117</th>\n",
       "      <td>9965</td>\n",
       "      <td>CA-2016-146374</td>\n",
       "      <td>12/5/2016</td>\n",
       "      <td>12/10/2016</td>\n",
       "      <td>Second Class</td>\n",
       "      <td>HE-14800</td>\n",
       "      <td>Harold Engle</td>\n",
       "      <td>Corporate</td>\n",
       "      <td>United States</td>\n",
       "      <td>Newark</td>\n",
       "      <td>...</td>\n",
       "      <td>19711</td>\n",
       "      <td>East</td>\n",
       "      <td>FUR-FU-10002671</td>\n",
       "      <td>Furniture</td>\n",
       "      <td>Furnishings</td>\n",
       "      <td>Electrix 20W Halogen Replacement Bulb for Zoom...</td>\n",
       "      <td>13.4000</td>\n",
       "      <td>1</td>\n",
       "      <td>0.00</td>\n",
       "      <td>6.4320</td>\n",
       "    </tr>\n",
       "    <tr>\n",
       "      <th>2118</th>\n",
       "      <td>9981</td>\n",
       "      <td>US-2015-151435</td>\n",
       "      <td>9/6/2015</td>\n",
       "      <td>9/9/2015</td>\n",
       "      <td>Second Class</td>\n",
       "      <td>SW-20455</td>\n",
       "      <td>Shaun Weien</td>\n",
       "      <td>Consumer</td>\n",
       "      <td>United States</td>\n",
       "      <td>Lafayette</td>\n",
       "      <td>...</td>\n",
       "      <td>70506</td>\n",
       "      <td>South</td>\n",
       "      <td>FUR-TA-10001039</td>\n",
       "      <td>Furniture</td>\n",
       "      <td>Tables</td>\n",
       "      <td>KI Adjustable-Height Table</td>\n",
       "      <td>85.9800</td>\n",
       "      <td>1</td>\n",
       "      <td>0.00</td>\n",
       "      <td>22.3548</td>\n",
       "    </tr>\n",
       "    <tr>\n",
       "      <th>2119</th>\n",
       "      <td>9990</td>\n",
       "      <td>CA-2014-110422</td>\n",
       "      <td>1/21/2014</td>\n",
       "      <td>1/23/2014</td>\n",
       "      <td>Second Class</td>\n",
       "      <td>TB-21400</td>\n",
       "      <td>Tom Boeckenhauer</td>\n",
       "      <td>Consumer</td>\n",
       "      <td>United States</td>\n",
       "      <td>Miami</td>\n",
       "      <td>...</td>\n",
       "      <td>33180</td>\n",
       "      <td>South</td>\n",
       "      <td>FUR-FU-10001889</td>\n",
       "      <td>Furniture</td>\n",
       "      <td>Furnishings</td>\n",
       "      <td>Ultra Door Pull Handle</td>\n",
       "      <td>25.2480</td>\n",
       "      <td>3</td>\n",
       "      <td>0.20</td>\n",
       "      <td>4.1028</td>\n",
       "    </tr>\n",
       "    <tr>\n",
       "      <th>2120</th>\n",
       "      <td>9991</td>\n",
       "      <td>CA-2017-121258</td>\n",
       "      <td>2/26/2017</td>\n",
       "      <td>3/3/2017</td>\n",
       "      <td>Standard Class</td>\n",
       "      <td>DB-13060</td>\n",
       "      <td>Dave Brooks</td>\n",
       "      <td>Consumer</td>\n",
       "      <td>United States</td>\n",
       "      <td>Costa Mesa</td>\n",
       "      <td>...</td>\n",
       "      <td>92627</td>\n",
       "      <td>West</td>\n",
       "      <td>FUR-FU-10000747</td>\n",
       "      <td>Furniture</td>\n",
       "      <td>Furnishings</td>\n",
       "      <td>Tenex B1-RE Series Chair Mats for Low Pile Car...</td>\n",
       "      <td>91.9600</td>\n",
       "      <td>2</td>\n",
       "      <td>0.00</td>\n",
       "      <td>15.6332</td>\n",
       "    </tr>\n",
       "  </tbody>\n",
       "</table>\n",
       "<p>5 rows × 21 columns</p>\n",
       "</div>"
      ],
      "text/plain": [
       "      Row ID        Order ID Order Date   Ship Date       Ship Mode  \\\n",
       "2116    9963  CA-2015-168088  3/19/2015   3/22/2015     First Class   \n",
       "2117    9965  CA-2016-146374  12/5/2016  12/10/2016    Second Class   \n",
       "2118    9981  US-2015-151435   9/6/2015    9/9/2015    Second Class   \n",
       "2119    9990  CA-2014-110422  1/21/2014   1/23/2014    Second Class   \n",
       "2120    9991  CA-2017-121258  2/26/2017    3/3/2017  Standard Class   \n",
       "\n",
       "     Customer ID     Customer Name      Segment        Country        City  \\\n",
       "2116    CM-12655  Corinna Mitchell  Home Office  United States     Houston   \n",
       "2117    HE-14800      Harold Engle    Corporate  United States      Newark   \n",
       "2118    SW-20455       Shaun Weien     Consumer  United States   Lafayette   \n",
       "2119    TB-21400  Tom Boeckenhauer     Consumer  United States       Miami   \n",
       "2120    DB-13060       Dave Brooks     Consumer  United States  Costa Mesa   \n",
       "\n",
       "      ... Postal Code   Region       Product ID   Category Sub-Category  \\\n",
       "2116  ...       77041  Central  FUR-BO-10004218  Furniture    Bookcases   \n",
       "2117  ...       19711     East  FUR-FU-10002671  Furniture  Furnishings   \n",
       "2118  ...       70506    South  FUR-TA-10001039  Furniture       Tables   \n",
       "2119  ...       33180    South  FUR-FU-10001889  Furniture  Furnishings   \n",
       "2120  ...       92627     West  FUR-FU-10000747  Furniture  Furnishings   \n",
       "\n",
       "                                           Product Name     Sales  Quantity  \\\n",
       "2116  Bush Heritage Pine Collection 5-Shelf Bookcase...  383.4656         4   \n",
       "2117  Electrix 20W Halogen Replacement Bulb for Zoom...   13.4000         1   \n",
       "2118                         KI Adjustable-Height Table   85.9800         1   \n",
       "2119                             Ultra Door Pull Handle   25.2480         3   \n",
       "2120  Tenex B1-RE Series Chair Mats for Low Pile Car...   91.9600         2   \n",
       "\n",
       "      Discount   Profit  \n",
       "2116      0.32 -67.6704  \n",
       "2117      0.00   6.4320  \n",
       "2118      0.00  22.3548  \n",
       "2119      0.20   4.1028  \n",
       "2120      0.00  15.6332  \n",
       "\n",
       "[5 rows x 21 columns]"
      ]
     },
     "execution_count": 4,
     "metadata": {},
     "output_type": "execute_result"
    }
   ],
   "source": [
    "sales.tail()"
   ]
  },
  {
   "cell_type": "code",
   "execution_count": 5,
   "metadata": {
    "execution": {
     "iopub.execute_input": "2024-04-20T19:09:00.857159Z",
     "iopub.status.busy": "2024-04-20T19:09:00.856683Z",
     "iopub.status.idle": "2024-04-20T19:09:00.869029Z",
     "shell.execute_reply": "2024-04-20T19:09:00.866851Z",
     "shell.execute_reply.started": "2024-04-20T19:09:00.857121Z"
    }
   },
   "outputs": [
    {
     "data": {
      "text/plain": [
       "(2121, 21)"
      ]
     },
     "execution_count": 5,
     "metadata": {},
     "output_type": "execute_result"
    }
   ],
   "source": [
    "sales.shape"
   ]
  },
  {
   "cell_type": "code",
   "execution_count": 6,
   "metadata": {
    "execution": {
     "iopub.execute_input": "2024-04-20T19:09:00.871400Z",
     "iopub.status.busy": "2024-04-20T19:09:00.870928Z",
     "iopub.status.idle": "2024-04-20T19:09:00.899572Z",
     "shell.execute_reply": "2024-04-20T19:09:00.897867Z",
     "shell.execute_reply.started": "2024-04-20T19:09:00.871360Z"
    }
   },
   "outputs": [
    {
     "name": "stdout",
     "output_type": "stream",
     "text": [
      "<class 'pandas.core.frame.DataFrame'>\n",
      "RangeIndex: 2121 entries, 0 to 2120\n",
      "Data columns (total 21 columns):\n",
      " #   Column         Non-Null Count  Dtype  \n",
      "---  ------         --------------  -----  \n",
      " 0   Row ID         2121 non-null   int64  \n",
      " 1   Order ID       2121 non-null   object \n",
      " 2   Order Date     2121 non-null   object \n",
      " 3   Ship Date      2121 non-null   object \n",
      " 4   Ship Mode      2121 non-null   object \n",
      " 5   Customer ID    2121 non-null   object \n",
      " 6   Customer Name  2121 non-null   object \n",
      " 7   Segment        2121 non-null   object \n",
      " 8   Country        2121 non-null   object \n",
      " 9   City           2121 non-null   object \n",
      " 10  State          2121 non-null   object \n",
      " 11  Postal Code    2121 non-null   int64  \n",
      " 12  Region         2121 non-null   object \n",
      " 13  Product ID     2121 non-null   object \n",
      " 14  Category       2121 non-null   object \n",
      " 15  Sub-Category   2121 non-null   object \n",
      " 16  Product Name   2121 non-null   object \n",
      " 17  Sales          2121 non-null   float64\n",
      " 18  Quantity       2121 non-null   int64  \n",
      " 19  Discount       2121 non-null   float64\n",
      " 20  Profit         2121 non-null   float64\n",
      "dtypes: float64(3), int64(3), object(15)\n",
      "memory usage: 348.1+ KB\n"
     ]
    }
   ],
   "source": [
    "sales.info()"
   ]
  },
  {
   "cell_type": "code",
   "execution_count": 7,
   "metadata": {
    "execution": {
     "iopub.execute_input": "2024-04-20T19:09:00.902241Z",
     "iopub.status.busy": "2024-04-20T19:09:00.901675Z",
     "iopub.status.idle": "2024-04-20T19:09:00.945927Z",
     "shell.execute_reply": "2024-04-20T19:09:00.944374Z",
     "shell.execute_reply.started": "2024-04-20T19:09:00.902191Z"
    }
   },
   "outputs": [
    {
     "data": {
      "text/html": [
       "<div>\n",
       "<style scoped>\n",
       "    .dataframe tbody tr th:only-of-type {\n",
       "        vertical-align: middle;\n",
       "    }\n",
       "\n",
       "    .dataframe tbody tr th {\n",
       "        vertical-align: top;\n",
       "    }\n",
       "\n",
       "    .dataframe thead th {\n",
       "        text-align: right;\n",
       "    }\n",
       "</style>\n",
       "<table border=\"1\" class=\"dataframe\">\n",
       "  <thead>\n",
       "    <tr style=\"text-align: right;\">\n",
       "      <th></th>\n",
       "      <th>Row ID</th>\n",
       "      <th>Postal Code</th>\n",
       "      <th>Sales</th>\n",
       "      <th>Quantity</th>\n",
       "      <th>Discount</th>\n",
       "      <th>Profit</th>\n",
       "    </tr>\n",
       "  </thead>\n",
       "  <tbody>\n",
       "    <tr>\n",
       "      <th>count</th>\n",
       "      <td>2121.000000</td>\n",
       "      <td>2121.000000</td>\n",
       "      <td>2121.000000</td>\n",
       "      <td>2121.000000</td>\n",
       "      <td>2121.000000</td>\n",
       "      <td>2121.000000</td>\n",
       "    </tr>\n",
       "    <tr>\n",
       "      <th>mean</th>\n",
       "      <td>5041.643564</td>\n",
       "      <td>55726.556341</td>\n",
       "      <td>349.834887</td>\n",
       "      <td>3.785007</td>\n",
       "      <td>0.173923</td>\n",
       "      <td>8.699327</td>\n",
       "    </tr>\n",
       "    <tr>\n",
       "      <th>std</th>\n",
       "      <td>2885.740258</td>\n",
       "      <td>32261.888225</td>\n",
       "      <td>503.179145</td>\n",
       "      <td>2.251620</td>\n",
       "      <td>0.181547</td>\n",
       "      <td>136.049246</td>\n",
       "    </tr>\n",
       "    <tr>\n",
       "      <th>min</th>\n",
       "      <td>1.000000</td>\n",
       "      <td>1040.000000</td>\n",
       "      <td>1.892000</td>\n",
       "      <td>1.000000</td>\n",
       "      <td>0.000000</td>\n",
       "      <td>-1862.312400</td>\n",
       "    </tr>\n",
       "    <tr>\n",
       "      <th>25%</th>\n",
       "      <td>2568.000000</td>\n",
       "      <td>22801.000000</td>\n",
       "      <td>47.040000</td>\n",
       "      <td>2.000000</td>\n",
       "      <td>0.000000</td>\n",
       "      <td>-12.849000</td>\n",
       "    </tr>\n",
       "    <tr>\n",
       "      <th>50%</th>\n",
       "      <td>5145.000000</td>\n",
       "      <td>60505.000000</td>\n",
       "      <td>182.220000</td>\n",
       "      <td>3.000000</td>\n",
       "      <td>0.200000</td>\n",
       "      <td>7.774800</td>\n",
       "    </tr>\n",
       "    <tr>\n",
       "      <th>75%</th>\n",
       "      <td>7534.000000</td>\n",
       "      <td>90032.000000</td>\n",
       "      <td>435.168000</td>\n",
       "      <td>5.000000</td>\n",
       "      <td>0.300000</td>\n",
       "      <td>33.726600</td>\n",
       "    </tr>\n",
       "    <tr>\n",
       "      <th>max</th>\n",
       "      <td>9991.000000</td>\n",
       "      <td>99301.000000</td>\n",
       "      <td>4416.174000</td>\n",
       "      <td>14.000000</td>\n",
       "      <td>0.700000</td>\n",
       "      <td>1013.127000</td>\n",
       "    </tr>\n",
       "  </tbody>\n",
       "</table>\n",
       "</div>"
      ],
      "text/plain": [
       "            Row ID   Postal Code        Sales     Quantity     Discount  \\\n",
       "count  2121.000000   2121.000000  2121.000000  2121.000000  2121.000000   \n",
       "mean   5041.643564  55726.556341   349.834887     3.785007     0.173923   \n",
       "std    2885.740258  32261.888225   503.179145     2.251620     0.181547   \n",
       "min       1.000000   1040.000000     1.892000     1.000000     0.000000   \n",
       "25%    2568.000000  22801.000000    47.040000     2.000000     0.000000   \n",
       "50%    5145.000000  60505.000000   182.220000     3.000000     0.200000   \n",
       "75%    7534.000000  90032.000000   435.168000     5.000000     0.300000   \n",
       "max    9991.000000  99301.000000  4416.174000    14.000000     0.700000   \n",
       "\n",
       "            Profit  \n",
       "count  2121.000000  \n",
       "mean      8.699327  \n",
       "std     136.049246  \n",
       "min   -1862.312400  \n",
       "25%     -12.849000  \n",
       "50%       7.774800  \n",
       "75%      33.726600  \n",
       "max    1013.127000  "
      ]
     },
     "execution_count": 7,
     "metadata": {},
     "output_type": "execute_result"
    }
   ],
   "source": [
    "sales.describe()"
   ]
  },
  {
   "cell_type": "markdown",
   "metadata": {},
   "source": [
    "# Exploratory Data Analysis"
   ]
  },
  {
   "cell_type": "code",
   "execution_count": 8,
   "metadata": {
    "execution": {
     "iopub.execute_input": "2024-04-20T19:09:00.948607Z",
     "iopub.status.busy": "2024-04-20T19:09:00.948000Z",
     "iopub.status.idle": "2024-04-20T19:09:00.968075Z",
     "shell.execute_reply": "2024-04-20T19:09:00.965968Z",
     "shell.execute_reply.started": "2024-04-20T19:09:00.948556Z"
    }
   },
   "outputs": [
    {
     "data": {
      "text/plain": [
       "Row ID           0\n",
       "Order ID         0\n",
       "Order Date       0\n",
       "Ship Date        0\n",
       "Ship Mode        0\n",
       "Customer ID      0\n",
       "Customer Name    0\n",
       "Segment          0\n",
       "Country          0\n",
       "City             0\n",
       "State            0\n",
       "Postal Code      0\n",
       "Region           0\n",
       "Product ID       0\n",
       "Category         0\n",
       "Sub-Category     0\n",
       "Product Name     0\n",
       "Sales            0\n",
       "Quantity         0\n",
       "Discount         0\n",
       "Profit           0\n",
       "dtype: int64"
      ]
     },
     "execution_count": 8,
     "metadata": {},
     "output_type": "execute_result"
    }
   ],
   "source": [
    "sales.isnull().sum()"
   ]
  },
  {
   "cell_type": "markdown",
   "metadata": {},
   "source": [
    "We can see that there are no null values present in the dataset."
   ]
  },
  {
   "cell_type": "markdown",
   "metadata": {},
   "source": [
    "Let's check the number of unique values in each column."
   ]
  },
  {
   "cell_type": "code",
   "execution_count": 9,
   "metadata": {
    "execution": {
     "iopub.execute_input": "2024-04-20T19:09:00.971393Z",
     "iopub.status.busy": "2024-04-20T19:09:00.970828Z",
     "iopub.status.idle": "2024-04-20T19:09:01.011997Z",
     "shell.execute_reply": "2024-04-20T19:09:01.010035Z",
     "shell.execute_reply.started": "2024-04-20T19:09:00.971347Z"
    }
   },
   "outputs": [
    {
     "data": {
      "text/html": [
       "<div>\n",
       "<style scoped>\n",
       "    .dataframe tbody tr th:only-of-type {\n",
       "        vertical-align: middle;\n",
       "    }\n",
       "\n",
       "    .dataframe tbody tr th {\n",
       "        vertical-align: top;\n",
       "    }\n",
       "\n",
       "    .dataframe thead th {\n",
       "        text-align: right;\n",
       "    }\n",
       "</style>\n",
       "<table border=\"1\" class=\"dataframe\">\n",
       "  <thead>\n",
       "    <tr style=\"text-align: right;\">\n",
       "      <th></th>\n",
       "      <th>unique count</th>\n",
       "    </tr>\n",
       "  </thead>\n",
       "  <tbody>\n",
       "    <tr>\n",
       "      <th>Row ID</th>\n",
       "      <td>2121</td>\n",
       "    </tr>\n",
       "    <tr>\n",
       "      <th>Order ID</th>\n",
       "      <td>1764</td>\n",
       "    </tr>\n",
       "    <tr>\n",
       "      <th>Order Date</th>\n",
       "      <td>889</td>\n",
       "    </tr>\n",
       "    <tr>\n",
       "      <th>Ship Date</th>\n",
       "      <td>960</td>\n",
       "    </tr>\n",
       "    <tr>\n",
       "      <th>Ship Mode</th>\n",
       "      <td>4</td>\n",
       "    </tr>\n",
       "    <tr>\n",
       "      <th>Customer ID</th>\n",
       "      <td>707</td>\n",
       "    </tr>\n",
       "    <tr>\n",
       "      <th>Customer Name</th>\n",
       "      <td>707</td>\n",
       "    </tr>\n",
       "    <tr>\n",
       "      <th>Segment</th>\n",
       "      <td>3</td>\n",
       "    </tr>\n",
       "    <tr>\n",
       "      <th>Country</th>\n",
       "      <td>1</td>\n",
       "    </tr>\n",
       "    <tr>\n",
       "      <th>City</th>\n",
       "      <td>371</td>\n",
       "    </tr>\n",
       "    <tr>\n",
       "      <th>State</th>\n",
       "      <td>48</td>\n",
       "    </tr>\n",
       "    <tr>\n",
       "      <th>Postal Code</th>\n",
       "      <td>454</td>\n",
       "    </tr>\n",
       "    <tr>\n",
       "      <th>Region</th>\n",
       "      <td>4</td>\n",
       "    </tr>\n",
       "    <tr>\n",
       "      <th>Product ID</th>\n",
       "      <td>375</td>\n",
       "    </tr>\n",
       "    <tr>\n",
       "      <th>Category</th>\n",
       "      <td>1</td>\n",
       "    </tr>\n",
       "    <tr>\n",
       "      <th>Sub-Category</th>\n",
       "      <td>4</td>\n",
       "    </tr>\n",
       "    <tr>\n",
       "      <th>Product Name</th>\n",
       "      <td>380</td>\n",
       "    </tr>\n",
       "    <tr>\n",
       "      <th>Sales</th>\n",
       "      <td>1636</td>\n",
       "    </tr>\n",
       "    <tr>\n",
       "      <th>Quantity</th>\n",
       "      <td>14</td>\n",
       "    </tr>\n",
       "    <tr>\n",
       "      <th>Discount</th>\n",
       "      <td>11</td>\n",
       "    </tr>\n",
       "    <tr>\n",
       "      <th>Profit</th>\n",
       "      <td>1777</td>\n",
       "    </tr>\n",
       "  </tbody>\n",
       "</table>\n",
       "</div>"
      ],
      "text/plain": [
       "               unique count\n",
       "Row ID                 2121\n",
       "Order ID               1764\n",
       "Order Date              889\n",
       "Ship Date               960\n",
       "Ship Mode                 4\n",
       "Customer ID             707\n",
       "Customer Name           707\n",
       "Segment                   3\n",
       "Country                   1\n",
       "City                    371\n",
       "State                    48\n",
       "Postal Code             454\n",
       "Region                    4\n",
       "Product ID              375\n",
       "Category                  1\n",
       "Sub-Category              4\n",
       "Product Name            380\n",
       "Sales                  1636\n",
       "Quantity                 14\n",
       "Discount                 11\n",
       "Profit                 1777"
      ]
     },
     "execution_count": 9,
     "metadata": {},
     "output_type": "execute_result"
    }
   ],
   "source": [
    "dict = {}\n",
    "for i in list(sales.columns):\n",
    "    dict[i] = sales[i].value_counts().shape[0]\n",
    "\n",
    "pd.DataFrame(dict,index=[\"unique count\"]).transpose()"
   ]
  },
  {
   "cell_type": "markdown",
   "metadata": {},
   "source": [
    "We can observe that the Row Id column may not be helpful as all values are unique identifier, so we can drop it."
   ]
  },
  {
   "cell_type": "code",
   "execution_count": 10,
   "metadata": {
    "execution": {
     "iopub.execute_input": "2024-04-20T19:09:01.014505Z",
     "iopub.status.busy": "2024-04-20T19:09:01.013990Z",
     "iopub.status.idle": "2024-04-20T19:09:01.048401Z",
     "shell.execute_reply": "2024-04-20T19:09:01.046905Z",
     "shell.execute_reply.started": "2024-04-20T19:09:01.014463Z"
    }
   },
   "outputs": [
    {
     "data": {
      "text/html": [
       "<div>\n",
       "<style scoped>\n",
       "    .dataframe tbody tr th:only-of-type {\n",
       "        vertical-align: middle;\n",
       "    }\n",
       "\n",
       "    .dataframe tbody tr th {\n",
       "        vertical-align: top;\n",
       "    }\n",
       "\n",
       "    .dataframe thead th {\n",
       "        text-align: right;\n",
       "    }\n",
       "</style>\n",
       "<table border=\"1\" class=\"dataframe\">\n",
       "  <thead>\n",
       "    <tr style=\"text-align: right;\">\n",
       "      <th></th>\n",
       "      <th>Order ID</th>\n",
       "      <th>Order Date</th>\n",
       "      <th>Ship Date</th>\n",
       "      <th>Ship Mode</th>\n",
       "      <th>Customer ID</th>\n",
       "      <th>Customer Name</th>\n",
       "      <th>Segment</th>\n",
       "      <th>Country</th>\n",
       "      <th>City</th>\n",
       "      <th>State</th>\n",
       "      <th>Postal Code</th>\n",
       "      <th>Region</th>\n",
       "      <th>Product ID</th>\n",
       "      <th>Category</th>\n",
       "      <th>Sub-Category</th>\n",
       "      <th>Product Name</th>\n",
       "      <th>Sales</th>\n",
       "      <th>Quantity</th>\n",
       "      <th>Discount</th>\n",
       "      <th>Profit</th>\n",
       "    </tr>\n",
       "  </thead>\n",
       "  <tbody>\n",
       "    <tr>\n",
       "      <th>0</th>\n",
       "      <td>CA-2016-152156</td>\n",
       "      <td>11/8/2016</td>\n",
       "      <td>11/11/2016</td>\n",
       "      <td>Second Class</td>\n",
       "      <td>CG-12520</td>\n",
       "      <td>Claire Gute</td>\n",
       "      <td>Consumer</td>\n",
       "      <td>United States</td>\n",
       "      <td>Henderson</td>\n",
       "      <td>Kentucky</td>\n",
       "      <td>42420</td>\n",
       "      <td>South</td>\n",
       "      <td>FUR-BO-10001798</td>\n",
       "      <td>Furniture</td>\n",
       "      <td>Bookcases</td>\n",
       "      <td>Bush Somerset Collection Bookcase</td>\n",
       "      <td>261.9600</td>\n",
       "      <td>2</td>\n",
       "      <td>0.00</td>\n",
       "      <td>41.9136</td>\n",
       "    </tr>\n",
       "    <tr>\n",
       "      <th>1</th>\n",
       "      <td>CA-2016-152156</td>\n",
       "      <td>11/8/2016</td>\n",
       "      <td>11/11/2016</td>\n",
       "      <td>Second Class</td>\n",
       "      <td>CG-12520</td>\n",
       "      <td>Claire Gute</td>\n",
       "      <td>Consumer</td>\n",
       "      <td>United States</td>\n",
       "      <td>Henderson</td>\n",
       "      <td>Kentucky</td>\n",
       "      <td>42420</td>\n",
       "      <td>South</td>\n",
       "      <td>FUR-CH-10000454</td>\n",
       "      <td>Furniture</td>\n",
       "      <td>Chairs</td>\n",
       "      <td>Hon Deluxe Fabric Upholstered Stacking Chairs,...</td>\n",
       "      <td>731.9400</td>\n",
       "      <td>3</td>\n",
       "      <td>0.00</td>\n",
       "      <td>219.5820</td>\n",
       "    </tr>\n",
       "    <tr>\n",
       "      <th>2</th>\n",
       "      <td>US-2015-108966</td>\n",
       "      <td>10/11/2015</td>\n",
       "      <td>10/18/2015</td>\n",
       "      <td>Standard Class</td>\n",
       "      <td>SO-20335</td>\n",
       "      <td>Sean O'Donnell</td>\n",
       "      <td>Consumer</td>\n",
       "      <td>United States</td>\n",
       "      <td>Fort Lauderdale</td>\n",
       "      <td>Florida</td>\n",
       "      <td>33311</td>\n",
       "      <td>South</td>\n",
       "      <td>FUR-TA-10000577</td>\n",
       "      <td>Furniture</td>\n",
       "      <td>Tables</td>\n",
       "      <td>Bretford CR4500 Series Slim Rectangular Table</td>\n",
       "      <td>957.5775</td>\n",
       "      <td>5</td>\n",
       "      <td>0.45</td>\n",
       "      <td>-383.0310</td>\n",
       "    </tr>\n",
       "  </tbody>\n",
       "</table>\n",
       "</div>"
      ],
      "text/plain": [
       "         Order ID  Order Date   Ship Date       Ship Mode Customer ID  \\\n",
       "0  CA-2016-152156   11/8/2016  11/11/2016    Second Class    CG-12520   \n",
       "1  CA-2016-152156   11/8/2016  11/11/2016    Second Class    CG-12520   \n",
       "2  US-2015-108966  10/11/2015  10/18/2015  Standard Class    SO-20335   \n",
       "\n",
       "    Customer Name   Segment        Country             City     State  \\\n",
       "0     Claire Gute  Consumer  United States        Henderson  Kentucky   \n",
       "1     Claire Gute  Consumer  United States        Henderson  Kentucky   \n",
       "2  Sean O'Donnell  Consumer  United States  Fort Lauderdale   Florida   \n",
       "\n",
       "   Postal Code Region       Product ID   Category Sub-Category  \\\n",
       "0        42420  South  FUR-BO-10001798  Furniture    Bookcases   \n",
       "1        42420  South  FUR-CH-10000454  Furniture       Chairs   \n",
       "2        33311  South  FUR-TA-10000577  Furniture       Tables   \n",
       "\n",
       "                                        Product Name     Sales  Quantity  \\\n",
       "0                  Bush Somerset Collection Bookcase  261.9600         2   \n",
       "1  Hon Deluxe Fabric Upholstered Stacking Chairs,...  731.9400         3   \n",
       "2      Bretford CR4500 Series Slim Rectangular Table  957.5775         5   \n",
       "\n",
       "   Discount    Profit  \n",
       "0      0.00   41.9136  \n",
       "1      0.00  219.5820  \n",
       "2      0.45 -383.0310  "
      ]
     },
     "execution_count": 10,
     "metadata": {},
     "output_type": "execute_result"
    }
   ],
   "source": [
    "sales = sales.drop(columns=['Row ID'])\n",
    "sales.head(3)"
   ]
  },
  {
   "cell_type": "markdown",
   "metadata": {},
   "source": [
    "We can observe that Country column has only one value i.e. United States. So we can drop Country column as well. Same with category column and other columns."
   ]
  },
  {
   "cell_type": "code",
   "execution_count": 11,
   "metadata": {
    "execution": {
     "iopub.execute_input": "2024-04-20T19:09:01.050612Z",
     "iopub.status.busy": "2024-04-20T19:09:01.050112Z",
     "iopub.status.idle": "2024-04-20T19:09:01.071415Z",
     "shell.execute_reply": "2024-04-20T19:09:01.069643Z",
     "shell.execute_reply.started": "2024-04-20T19:09:01.050574Z"
    }
   },
   "outputs": [
    {
     "data": {
      "text/html": [
       "<div>\n",
       "<style scoped>\n",
       "    .dataframe tbody tr th:only-of-type {\n",
       "        vertical-align: middle;\n",
       "    }\n",
       "\n",
       "    .dataframe tbody tr th {\n",
       "        vertical-align: top;\n",
       "    }\n",
       "\n",
       "    .dataframe thead th {\n",
       "        text-align: right;\n",
       "    }\n",
       "</style>\n",
       "<table border=\"1\" class=\"dataframe\">\n",
       "  <thead>\n",
       "    <tr style=\"text-align: right;\">\n",
       "      <th></th>\n",
       "      <th>Order Date</th>\n",
       "      <th>Sales</th>\n",
       "      <th>Quantity</th>\n",
       "      <th>Discount</th>\n",
       "      <th>Profit</th>\n",
       "    </tr>\n",
       "  </thead>\n",
       "  <tbody>\n",
       "    <tr>\n",
       "      <th>0</th>\n",
       "      <td>11/8/2016</td>\n",
       "      <td>261.9600</td>\n",
       "      <td>2</td>\n",
       "      <td>0.00</td>\n",
       "      <td>41.9136</td>\n",
       "    </tr>\n",
       "    <tr>\n",
       "      <th>1</th>\n",
       "      <td>11/8/2016</td>\n",
       "      <td>731.9400</td>\n",
       "      <td>3</td>\n",
       "      <td>0.00</td>\n",
       "      <td>219.5820</td>\n",
       "    </tr>\n",
       "    <tr>\n",
       "      <th>2</th>\n",
       "      <td>10/11/2015</td>\n",
       "      <td>957.5775</td>\n",
       "      <td>5</td>\n",
       "      <td>0.45</td>\n",
       "      <td>-383.0310</td>\n",
       "    </tr>\n",
       "  </tbody>\n",
       "</table>\n",
       "</div>"
      ],
      "text/plain": [
       "   Order Date     Sales  Quantity  Discount    Profit\n",
       "0   11/8/2016  261.9600         2      0.00   41.9136\n",
       "1   11/8/2016  731.9400         3      0.00  219.5820\n",
       "2  10/11/2015  957.5775         5      0.45 -383.0310"
      ]
     },
     "execution_count": 11,
     "metadata": {},
     "output_type": "execute_result"
    }
   ],
   "source": [
    "sales = sales.drop(columns=['Order ID', 'Country', 'Ship Date', 'Ship Mode', 'Customer ID', 'Customer Name', 'Segment', 'Country', 'City', \n",
    "                         'Postal Code', 'Product ID', 'Product Name', 'Sub-Category', 'Category', 'Region', 'State'])\n",
    "sales.head(3)"
   ]
  },
  {
   "cell_type": "markdown",
   "metadata": {},
   "source": [
    "Checking for duplicate values:"
   ]
  },
  {
   "cell_type": "code",
   "execution_count": 12,
   "metadata": {
    "execution": {
     "iopub.execute_input": "2024-04-20T19:09:01.074857Z",
     "iopub.status.busy": "2024-04-20T19:09:01.073943Z",
     "iopub.status.idle": "2024-04-20T19:09:01.103658Z",
     "shell.execute_reply": "2024-04-20T19:09:01.101401Z",
     "shell.execute_reply.started": "2024-04-20T19:09:01.074800Z"
    }
   },
   "outputs": [
    {
     "data": {
      "text/html": [
       "<div>\n",
       "<style scoped>\n",
       "    .dataframe tbody tr th:only-of-type {\n",
       "        vertical-align: middle;\n",
       "    }\n",
       "\n",
       "    .dataframe tbody tr th {\n",
       "        vertical-align: top;\n",
       "    }\n",
       "\n",
       "    .dataframe thead th {\n",
       "        text-align: right;\n",
       "    }\n",
       "</style>\n",
       "<table border=\"1\" class=\"dataframe\">\n",
       "  <thead>\n",
       "    <tr style=\"text-align: right;\">\n",
       "      <th></th>\n",
       "      <th>Order Date</th>\n",
       "      <th>Sales</th>\n",
       "      <th>Quantity</th>\n",
       "      <th>Discount</th>\n",
       "      <th>Profit</th>\n",
       "    </tr>\n",
       "  </thead>\n",
       "  <tbody>\n",
       "    <tr>\n",
       "      <th>720</th>\n",
       "      <td>4/23/2014</td>\n",
       "      <td>281.372</td>\n",
       "      <td>2</td>\n",
       "      <td>0.3</td>\n",
       "      <td>-12.0588</td>\n",
       "    </tr>\n",
       "    <tr>\n",
       "      <th>1238</th>\n",
       "      <td>7/4/2016</td>\n",
       "      <td>25.400</td>\n",
       "      <td>5</td>\n",
       "      <td>0.0</td>\n",
       "      <td>8.6360</td>\n",
       "    </tr>\n",
       "    <tr>\n",
       "      <th>1759</th>\n",
       "      <td>7/5/2015</td>\n",
       "      <td>4.928</td>\n",
       "      <td>2</td>\n",
       "      <td>0.2</td>\n",
       "      <td>0.7392</td>\n",
       "    </tr>\n",
       "  </tbody>\n",
       "</table>\n",
       "</div>"
      ],
      "text/plain": [
       "     Order Date    Sales  Quantity  Discount   Profit\n",
       "720   4/23/2014  281.372         2       0.3 -12.0588\n",
       "1238   7/4/2016   25.400         5       0.0   8.6360\n",
       "1759   7/5/2015    4.928         2       0.2   0.7392"
      ]
     },
     "execution_count": 12,
     "metadata": {},
     "output_type": "execute_result"
    }
   ],
   "source": [
    "duplicate_rows = sales[sales.duplicated()]\n",
    "duplicate_rows.head()"
   ]
  },
  {
   "cell_type": "code",
   "execution_count": 13,
   "metadata": {
    "execution": {
     "iopub.execute_input": "2024-04-20T19:09:01.106852Z",
     "iopub.status.busy": "2024-04-20T19:09:01.106384Z",
     "iopub.status.idle": "2024-04-20T19:09:01.130149Z",
     "shell.execute_reply": "2024-04-20T19:09:01.128901Z",
     "shell.execute_reply.started": "2024-04-20T19:09:01.106818Z"
    }
   },
   "outputs": [
    {
     "data": {
      "text/html": [
       "<div>\n",
       "<style scoped>\n",
       "    .dataframe tbody tr th:only-of-type {\n",
       "        vertical-align: middle;\n",
       "    }\n",
       "\n",
       "    .dataframe tbody tr th {\n",
       "        vertical-align: top;\n",
       "    }\n",
       "\n",
       "    .dataframe thead th {\n",
       "        text-align: right;\n",
       "    }\n",
       "</style>\n",
       "<table border=\"1\" class=\"dataframe\">\n",
       "  <thead>\n",
       "    <tr style=\"text-align: right;\">\n",
       "      <th></th>\n",
       "      <th>Order Date</th>\n",
       "      <th>Sales</th>\n",
       "      <th>Quantity</th>\n",
       "      <th>Discount</th>\n",
       "      <th>Profit</th>\n",
       "    </tr>\n",
       "  </thead>\n",
       "  <tbody>\n",
       "    <tr>\n",
       "      <th>0</th>\n",
       "      <td>11/8/2016</td>\n",
       "      <td>261.9600</td>\n",
       "      <td>2</td>\n",
       "      <td>0.00</td>\n",
       "      <td>41.9136</td>\n",
       "    </tr>\n",
       "    <tr>\n",
       "      <th>1</th>\n",
       "      <td>11/8/2016</td>\n",
       "      <td>731.9400</td>\n",
       "      <td>3</td>\n",
       "      <td>0.00</td>\n",
       "      <td>219.5820</td>\n",
       "    </tr>\n",
       "    <tr>\n",
       "      <th>2</th>\n",
       "      <td>10/11/2015</td>\n",
       "      <td>957.5775</td>\n",
       "      <td>5</td>\n",
       "      <td>0.45</td>\n",
       "      <td>-383.0310</td>\n",
       "    </tr>\n",
       "    <tr>\n",
       "      <th>3</th>\n",
       "      <td>6/9/2014</td>\n",
       "      <td>48.8600</td>\n",
       "      <td>7</td>\n",
       "      <td>0.00</td>\n",
       "      <td>14.1694</td>\n",
       "    </tr>\n",
       "    <tr>\n",
       "      <th>4</th>\n",
       "      <td>6/9/2014</td>\n",
       "      <td>1706.1840</td>\n",
       "      <td>9</td>\n",
       "      <td>0.20</td>\n",
       "      <td>85.3092</td>\n",
       "    </tr>\n",
       "  </tbody>\n",
       "</table>\n",
       "</div>"
      ],
      "text/plain": [
       "   Order Date      Sales  Quantity  Discount    Profit\n",
       "0   11/8/2016   261.9600         2      0.00   41.9136\n",
       "1   11/8/2016   731.9400         3      0.00  219.5820\n",
       "2  10/11/2015   957.5775         5      0.45 -383.0310\n",
       "3    6/9/2014    48.8600         7      0.00   14.1694\n",
       "4    6/9/2014  1706.1840         9      0.20   85.3092"
      ]
     },
     "execution_count": 13,
     "metadata": {},
     "output_type": "execute_result"
    }
   ],
   "source": [
    "sales = sales.drop_duplicates()\n",
    "sales.head()"
   ]
  },
  {
   "cell_type": "markdown",
   "metadata": {},
   "source": [
    "Now, we'll convert the 'Order Date' column to datetime format and set it as the index of the DataFrame."
   ]
  },
  {
   "cell_type": "code",
   "execution_count": 14,
   "metadata": {
    "execution": {
     "iopub.execute_input": "2024-04-20T19:09:01.136729Z",
     "iopub.status.busy": "2024-04-20T19:09:01.136243Z",
     "iopub.status.idle": "2024-04-20T19:09:01.160901Z",
     "shell.execute_reply": "2024-04-20T19:09:01.159595Z",
     "shell.execute_reply.started": "2024-04-20T19:09:01.136691Z"
    }
   },
   "outputs": [],
   "source": [
    "sales['Order Date'] = pd.to_datetime(sales['Order Date'])\n",
    "sales.set_index('Order Date', inplace=True)"
   ]
  },
  {
   "cell_type": "markdown",
   "metadata": {},
   "source": [
    "The below code computes the total sales revenue for each month, providing a time series of monthly sales data."
   ]
  },
  {
   "cell_type": "code",
   "execution_count": 15,
   "metadata": {
    "execution": {
     "iopub.execute_input": "2024-04-20T19:09:01.166800Z",
     "iopub.status.busy": "2024-04-20T19:09:01.166143Z",
     "iopub.status.idle": "2024-04-20T19:09:01.182962Z",
     "shell.execute_reply": "2024-04-20T19:09:01.181694Z",
     "shell.execute_reply.started": "2024-04-20T19:09:01.166742Z"
    }
   },
   "outputs": [],
   "source": [
    "monthly_sales = sales['Sales'].resample('M').sum()"
   ]
  },
  {
   "cell_type": "code",
   "execution_count": 16,
   "metadata": {
    "execution": {
     "iopub.execute_input": "2024-04-20T19:09:01.189651Z",
     "iopub.status.busy": "2024-04-20T19:09:01.185024Z",
     "iopub.status.idle": "2024-04-20T19:09:01.203902Z",
     "shell.execute_reply": "2024-04-20T19:09:01.201429Z",
     "shell.execute_reply.started": "2024-04-20T19:09:01.189598Z"
    }
   },
   "outputs": [
    {
     "data": {
      "text/plain": [
       "Order Date\n",
       "2014-01-31     6242.5250\n",
       "2014-02-28     1839.6580\n",
       "2014-03-31    14573.9560\n",
       "2014-04-30     7663.4650\n",
       "2014-05-31     6912.7870\n",
       "2014-06-30    13206.1256\n",
       "2014-07-31    10821.0510\n",
       "2014-08-31     7320.3465\n",
       "2014-09-30    23816.4808\n",
       "2014-10-31    12304.2470\n",
       "2014-11-30    21564.8727\n",
       "2014-12-31    30645.9665\n",
       "2015-01-31    11739.9416\n",
       "2015-02-28     3134.3740\n",
       "2015-03-31    12499.7830\n",
       "2015-04-30    10475.6985\n",
       "2015-05-31     9374.9505\n",
       "2015-06-30     7714.1790\n",
       "2015-07-31    13669.4920\n",
       "2015-08-31     9638.5922\n",
       "2015-09-30    26273.0230\n",
       "2015-10-31    12026.6235\n",
       "2015-11-30    30880.8325\n",
       "2015-12-31    23085.8192\n",
       "2016-01-31     7622.7430\n",
       "2016-02-29     3925.5510\n",
       "2016-03-31    12801.0920\n",
       "2016-04-30    13212.0900\n",
       "2016-05-31    15119.8350\n",
       "2016-06-30    13070.5720\n",
       "2016-07-31    13043.1190\n",
       "2016-08-31    12483.2323\n",
       "2016-09-30    27262.8809\n",
       "2016-10-31    11872.5770\n",
       "2016-11-30    31783.6288\n",
       "2016-12-31    36678.7150\n",
       "2017-01-31     5964.0320\n",
       "2017-02-28     6866.3374\n",
       "2017-03-31    10893.4448\n",
       "2017-04-30     9065.9581\n",
       "2017-05-31    16957.5582\n",
       "2017-06-30    19008.5867\n",
       "2017-07-31    11813.0220\n",
       "2017-08-31    15441.8740\n",
       "2017-09-30    29028.2060\n",
       "2017-10-31    21884.0682\n",
       "2017-11-30    37056.7150\n",
       "2017-12-31    31407.4668\n",
       "Freq: M, Name: Sales, dtype: float64"
      ]
     },
     "execution_count": 16,
     "metadata": {},
     "output_type": "execute_result"
    }
   ],
   "source": [
    "monthly_sales"
   ]
  },
  {
   "cell_type": "markdown",
   "metadata": {},
   "source": [
    "\n",
    "\n",
    "\n",
    "# Data Visualization"
   ]
  },
  {
   "cell_type": "code",
   "execution_count": 17,
   "metadata": {
    "execution": {
     "iopub.execute_input": "2024-04-20T19:09:01.207370Z",
     "iopub.status.busy": "2024-04-20T19:09:01.206412Z",
     "iopub.status.idle": "2024-04-20T19:09:02.836692Z",
     "shell.execute_reply": "2024-04-20T19:09:02.835322Z",
     "shell.execute_reply.started": "2024-04-20T19:09:01.207294Z"
    }
   },
   "outputs": [
    {
     "data": {
      "image/png": "[encoded data removed]",
      "text/plain": [
       "<Figure size 1080x360 with 3 Axes>"
      ]
     },
     "metadata": {
      "needs_background": "light"
     },
     "output_type": "display_data"
    }
   ],
   "source": [
    "plt.figure(figsize=(15, 5))\n",
    "\n",
    "# Sales Distribution\n",
    "plt.subplot(1, 3, 1)\n",
    "sns.histplot(sales['Sales'], bins=30, kde=True)\n",
    "plt.title('Sales Distribution')\n",
    "\n",
    "# Quantity Distribution\n",
    "plt.subplot(1, 3, 2)\n",
    "sns.histplot(sales['Quantity'], bins=30, kde=True)\n",
    "plt.title('Quantity Distribution')\n",
    "\n",
    "# Profit Distribution\n",
    "plt.subplot(1, 3, 3)\n",
    "sns.histplot(sales['Profit'], bins=30, kde=True)\n",
    "plt.title('Profit Distribution')\n",
    "\n",
    "plt.tight_layout()\n",
    "plt.show()"
   ]
  },
  {
   "cell_type": "markdown",
   "metadata": {},
   "source": [
    "Time Series Plot of Monthly Sales\n"
   ]
  },
  {
   "cell_type": "code",
   "execution_count": 18,
   "metadata": {
    "execution": {
     "iopub.execute_input": "2024-04-20T19:09:02.839881Z",
     "iopub.status.busy": "2024-04-20T19:09:02.838455Z",
     "iopub.status.idle": "2024-04-20T19:09:03.412092Z",
     "shell.execute_reply": "2024-04-20T19:09:03.409631Z",
     "shell.execute_reply.started": "2024-04-20T19:09:02.839829Z"
    }
   },
   "outputs": [
    {
     "data": {
      "image/png": "[encoded data removed]",
      "text/plain": [
       "<Figure size 720x432 with 1 Axes>"
      ]
     },
     "metadata": {
      "needs_background": "light"
     },
     "output_type": "display_data"
    }
   ],
   "source": [
    "plt.figure(figsize=(10, 6))\n",
    "plt.plot(monthly_sales.index, monthly_sales.values, marker='o', linestyle='-')\n",
    "plt.title('Monthly Sales')\n",
    "plt.xlabel('Date')\n",
    "plt.ylabel('Sales')\n",
    "plt.grid(True)\n",
    "plt.show()"
   ]
  },
  {
   "cell_type": "markdown",
   "metadata": {},
   "source": [
    "The pattern in the dataset suggests monthly sales exhibit seasonality with recurring peaks and troughs, accompanied by an overall upward trend."
   ]
  },
  {
   "cell_type": "markdown",
   "metadata": {},
   "source": [
    "Histogram of Sales Distribution\n"
   ]
  },
  {
   "cell_type": "code",
   "execution_count": 19,
   "metadata": {
    "execution": {
     "iopub.execute_input": "2024-04-20T19:09:03.415110Z",
     "iopub.status.busy": "2024-04-20T19:09:03.414511Z",
     "iopub.status.idle": "2024-04-20T19:09:03.788799Z",
     "shell.execute_reply": "2024-04-20T19:09:03.787743Z",
     "shell.execute_reply.started": "2024-04-20T19:09:03.415047Z"
    }
   },
   "outputs": [
    {
     "data": {
      "image/png": "[encoded data removed]",
      "text/plain": [
       "<Figure size 432x288 with 1 Axes>"
      ]
     },
     "metadata": {
      "needs_background": "light"
     },
     "output_type": "display_data"
    }
   ],
   "source": [
    "plt.figure(figsize=(6, 4))\n",
    "plt.hist(sales['Sales'], bins=20, color='skyblue', edgecolor='black')\n",
    "plt.title('Sales Distribution')\n",
    "plt.xlabel('Sales')\n",
    "plt.ylabel('Frequency')\n",
    "plt.grid(True)\n",
    "plt.show()\n"
   ]
  },
  {
   "cell_type": "markdown",
   "metadata": {},
   "source": [
    "The sales distribution plot illustrates that a significant portion of sales falls within lower values, indicating a skewed distribution with a long tail towards higher sales values."
   ]
  },
  {
   "cell_type": "code",
   "execution_count": 20,
   "metadata": {
    "execution": {
     "iopub.execute_input": "2024-04-20T19:09:03.790689Z",
     "iopub.status.busy": "2024-04-20T19:09:03.790226Z",
     "iopub.status.idle": "2024-04-20T19:09:05.657555Z",
     "shell.execute_reply": "2024-04-20T19:09:05.655476Z",
     "shell.execute_reply.started": "2024-04-20T19:09:03.790651Z"
    }
   },
   "outputs": [
    {
     "data": {
      "image/png": "[encoded data removed]",
      "text/plain": [
       "<Figure size 504x360 with 4 Axes>"
      ]
     },
     "metadata": {
      "needs_background": "light"
     },
     "output_type": "display_data"
    }
   ],
   "source": [
    "# Seasonal Decomposition Plot\n",
    "decomposition = seasonal_decompose(monthly_sales, model='additive')\n",
    "plt.figure(figsize=(7,5))\n",
    "\n",
    "plt.subplot(4, 1, 1)\n",
    "plt.plot(decomposition.trend, label='Trend', color='blue')\n",
    "plt.title('Trend')\n",
    "\n",
    "plt.subplot(4, 1, 2)\n",
    "plt.plot(decomposition.seasonal, label='Seasonality', color='green')\n",
    "plt.title('Seasonality')\n",
    "\n",
    "plt.subplot(4, 1, 3)\n",
    "plt.plot(decomposition.resid, label='Residuals', color='red')\n",
    "plt.title('Residuals')\n",
    "\n",
    "plt.subplot(4, 1, 4)\n",
    "plt.plot(monthly_sales.index, monthly_sales.values, marker='o', linestyle='-', label='Original', color='black')\n",
    "plt.title('Original')\n",
    "\n",
    "plt.tight_layout()\n",
    "plt.show()\n"
   ]
  },
  {
   "cell_type": "code",
   "execution_count": 21,
   "metadata": {
    "execution": {
     "iopub.execute_input": "2024-04-20T19:09:05.659899Z",
     "iopub.status.busy": "2024-04-20T19:09:05.659391Z",
     "iopub.status.idle": "2024-04-20T19:09:05.966049Z",
     "shell.execute_reply": "2024-04-20T19:09:05.964529Z",
     "shell.execute_reply.started": "2024-04-20T19:09:05.659860Z"
    }
   },
   "outputs": [
    {
     "data": {
      "text/plain": [
       "<AxesSubplot:xlabel='Order Date'>"
      ]
     },
     "execution_count": 21,
     "metadata": {},
     "output_type": "execute_result"
    },
    {
     "data": {
      "image/png": "[encoded data removed]",
      "text/plain": [
       "<Figure size 216x216 with 1 Axes>"
      ]
     },
     "metadata": {
      "needs_background": "light"
     },
     "output_type": "display_data"
    }
   ],
   "source": [
    "# Resample the data to compute annual average of the 'Sales' column\n",
    "Y_Sales = sales['Sales'].resample('Y').mean()\n",
    "\n",
    "Y_Sales.plot(figsize =(3,3))"
   ]
  },
  {
   "cell_type": "code",
   "execution_count": 22,
   "metadata": {
    "execution": {
     "iopub.execute_input": "2024-04-20T19:09:05.967863Z",
     "iopub.status.busy": "2024-04-20T19:09:05.967438Z",
     "iopub.status.idle": "2024-04-20T19:09:06.247813Z",
     "shell.execute_reply": "2024-04-20T19:09:06.246342Z",
     "shell.execute_reply.started": "2024-04-20T19:09:05.967826Z"
    }
   },
   "outputs": [
    {
     "data": {
      "text/plain": [
       "<AxesSubplot:xlabel='Order Date'>"
      ]
     },
     "execution_count": 22,
     "metadata": {},
     "output_type": "execute_result"
    },
    {
     "data": {
      "image/png": "[encoded data removed]",
      "text/plain": [
       "<Figure size 216x216 with 1 Axes>"
      ]
     },
     "metadata": {
      "needs_background": "light"
     },
     "output_type": "display_data"
    }
   ],
   "source": [
    "# Resample the data to compute annual average of the 'Profit' column\n",
    "Y_Profit = sales['Profit'].resample('Y').mean()\n",
    "\n",
    "Y_Profit.plot(figsize =(3,3), c= \"g\")"
   ]
  },
  {
   "cell_type": "code",
   "execution_count": 23,
   "metadata": {
    "execution": {
     "iopub.execute_input": "2024-04-20T19:09:06.250338Z",
     "iopub.status.busy": "2024-04-20T19:09:06.249778Z",
     "iopub.status.idle": "2024-04-20T19:09:06.527858Z",
     "shell.execute_reply": "2024-04-20T19:09:06.526379Z",
     "shell.execute_reply.started": "2024-04-20T19:09:06.250300Z"
    }
   },
   "outputs": [
    {
     "data": {
      "text/plain": [
       "<AxesSubplot:xlabel='Order Date'>"
      ]
     },
     "execution_count": 23,
     "metadata": {},
     "output_type": "execute_result"
    },
    {
     "data": {
      "image/png": "[encoded data removed]",
      "text/plain": [
       "<Figure size 216x216 with 1 Axes>"
      ]
     },
     "metadata": {
      "needs_background": "light"
     },
     "output_type": "display_data"
    }
   ],
   "source": [
    "# Resample the data to compute annual average of the 'Quantity' column\n",
    "Y_Quantity = sales['Quantity'].resample('Y').mean()\n",
    "\n",
    "Y_Quantity.plot(figsize =(3,3), c =\"r\")"
   ]
  },
  {
   "cell_type": "code",
   "execution_count": 24,
   "metadata": {
    "execution": {
     "iopub.execute_input": "2024-04-20T19:09:06.530306Z",
     "iopub.status.busy": "2024-04-20T19:09:06.529753Z",
     "iopub.status.idle": "2024-04-20T19:09:06.831467Z",
     "shell.execute_reply": "2024-04-20T19:09:06.829593Z",
     "shell.execute_reply.started": "2024-04-20T19:09:06.530240Z"
    }
   },
   "outputs": [
    {
     "data": {
      "text/plain": [
       "<AxesSubplot:xlabel='Order Date'>"
      ]
     },
     "execution_count": 24,
     "metadata": {},
     "output_type": "execute_result"
    },
    {
     "data": {
      "image/png": "[encoded data removed]",
      "text/plain": [
       "<Figure size 216x216 with 1 Axes>"
      ]
     },
     "metadata": {
      "needs_background": "light"
     },
     "output_type": "display_data"
    }
   ],
   "source": [
    "# Resample the data to compute annual average of the 'Discount' column.\n",
    "Y_Discount = sales['Discount'].resample('Y').mean()\n",
    "\n",
    "Y_Discount.plot(figsize =(3,3), c =\"pink\", )"
   ]
  },
  {
   "cell_type": "markdown",
   "metadata": {},
   "source": [
    "Decompose the time series into trend, seasonality, and residuals\n"
   ]
  },
  {
   "cell_type": "code",
   "execution_count": 25,
   "metadata": {
    "execution": {
     "iopub.execute_input": "2024-04-20T19:09:06.833969Z",
     "iopub.status.busy": "2024-04-20T19:09:06.833224Z",
     "iopub.status.idle": "2024-04-20T19:09:06.843752Z",
     "shell.execute_reply": "2024-04-20T19:09:06.841729Z",
     "shell.execute_reply.started": "2024-04-20T19:09:06.833924Z"
    }
   },
   "outputs": [],
   "source": [
    "from statsmodels.tsa.seasonal import seasonal_decompose\n",
    "decompose_result = seasonal_decompose(monthly_sales, model='multiplicative', period=12)"
   ]
  },
  {
   "cell_type": "markdown",
   "metadata": {},
   "source": [
    "# ADF Test"
   ]
  },
  {
   "cell_type": "code",
   "execution_count": 26,
   "metadata": {
    "execution": {
     "iopub.execute_input": "2024-04-20T19:09:06.846545Z",
     "iopub.status.busy": "2024-04-20T19:09:06.845850Z",
     "iopub.status.idle": "2024-04-20T19:09:06.865798Z",
     "shell.execute_reply": "2024-04-20T19:09:06.863980Z",
     "shell.execute_reply.started": "2024-04-20T19:09:06.846499Z"
    }
   },
   "outputs": [
    {
     "name": "stdout",
     "output_type": "stream",
     "text": [
      "ADF Statistic: -4.696804\n",
      "p-value: 0.000085\n"
     ]
    }
   ],
   "source": [
    "# Check for stationarity\n",
    "from statsmodels.tsa.stattools import adfuller\n",
    "adfuller_result = adfuller(monthly_sales)\n",
    "print(\"ADF Statistic: %f\" % adfuller_result[0])\n",
    "print('p-value: %f' % adfuller_result[1])"
   ]
  },
  {
   "cell_type": "markdown",
   "metadata": {},
   "source": [
    "The Augmented Dickey-Fuller (ADF) test statistic of -4.697056 with a p-value of 0.000085 suggests strong evidence against the null hypothesis (H0), leading to the rejection of the null hypothesis. This indicates that the data has no unit root and is stationary, implying that it does not exhibit a trend and its statistical properties remain constant over time.\n",
    "\n",
    "A unit root is indicative of non-stationarity in the time series. Stationarity is a desirable property in time series analysis, as it implies that the statistical properties of the data, such as mean and variance, do not change over time. Non-stationarity, on the other hand, implies that the statistical properties of the data are time-dependent and may exhibit trends or patterns."
   ]
  },
  {
   "cell_type": "code",
   "execution_count": 27,
   "metadata": {
    "execution": {
     "iopub.execute_input": "2024-04-20T19:09:06.868450Z",
     "iopub.status.busy": "2024-04-20T19:09:06.867981Z",
     "iopub.status.idle": "2024-04-20T19:09:07.235421Z",
     "shell.execute_reply": "2024-04-20T19:09:07.233764Z",
     "shell.execute_reply.started": "2024-04-20T19:09:06.868410Z"
    }
   },
   "outputs": [
    {
     "data": {
      "image/png": "[encoded data removed]",
      "text/plain": [
       "<Figure size 432x288 with 1 Axes>"
      ]
     },
     "metadata": {
      "needs_background": "light"
     },
     "output_type": "display_data"
    }
   ],
   "source": [
    "from pandas.plotting import autocorrelation_plot\n",
    "autocorrelation_plot(sales['Sales'])\n",
    "plt.show()\n"
   ]
  },
  {
   "cell_type": "markdown",
   "metadata": {},
   "source": [
    "# ACF & PACF"
   ]
  },
  {
   "cell_type": "code",
   "execution_count": 28,
   "metadata": {
    "execution": {
     "iopub.execute_input": "2024-04-20T19:09:07.237897Z",
     "iopub.status.busy": "2024-04-20T19:09:07.237295Z",
     "iopub.status.idle": "2024-04-20T19:09:08.238780Z",
     "shell.execute_reply": "2024-04-20T19:09:08.237104Z",
     "shell.execute_reply.started": "2024-04-20T19:09:07.237857Z"
    }
   },
   "outputs": [
    {
     "data": {
      "image/png": "[encoded data removed]",
      "text/plain": [
       "<Figure size 864x432 with 1 Axes>"
      ]
     },
     "metadata": {
      "needs_background": "light"
     },
     "output_type": "display_data"
    },
    {
     "data": {
      "image/png": "[encoded data removed]",
      "text/plain": [
       "<Figure size 864x432 with 1 Axes>"
      ]
     },
     "metadata": {
      "needs_background": "light"
     },
     "output_type": "display_data"
    }
   ],
   "source": [
    "import statsmodels.api as sm\n",
    "\n",
    "# Plot ACF\n",
    "fig, ax1 = plt.subplots(figsize=(12, 6))\n",
    "sm.graphics.tsa.plot_acf(sales['Sales'], lags=40, ax=ax1)\n",
    "plt.title('Autocorrelation Function (ACF)')\n",
    "\n",
    "# Plot PACF\n",
    "fig, ax2 = plt.subplots(figsize=(12, 6))\n",
    "sm.graphics.tsa.plot_pacf(sales['Sales'], lags=40, ax=ax2)\n",
    "plt.title('Partial Autocorrelation Function (PACF)')\n",
    "\n",
    "plt.show()"
   ]
  },
  {
   "cell_type": "markdown",
   "metadata": {},
   "source": [
    "The ACF measures the correlation between a variable's current value and its past values at different lags, while the PACF measures the correlation between a variable's current value and its past values after removing the effect of intervening observations."
   ]
  },
  {
   "cell_type": "markdown",
   "metadata": {},
   "source": [
    "# Data Preparation"
   ]
  },
  {
   "cell_type": "code",
   "execution_count": 29,
   "metadata": {
    "execution": {
     "iopub.execute_input": "2024-04-20T19:09:08.243006Z",
     "iopub.status.busy": "2024-04-20T19:09:08.242134Z",
     "iopub.status.idle": "2024-04-20T19:09:08.251212Z",
     "shell.execute_reply": "2024-04-20T19:09:08.249365Z",
     "shell.execute_reply.started": "2024-04-20T19:09:08.242963Z"
    }
   },
   "outputs": [],
   "source": [
    "# Split data into train and test sets\n",
    "X = np.arange(len(monthly_sales)).reshape(-1, 1)\n",
    "y = monthly_sales.values\n",
    "X_train, X_test, y_train, y_test = train_test_split(X, y, test_size=0.2, shuffle=False)"
   ]
  },
  {
   "cell_type": "markdown",
   "metadata": {},
   "source": [
    "# Model Fitting"
   ]
  },
  {
   "cell_type": "code",
   "execution_count": 30,
   "metadata": {
    "execution": {
     "iopub.execute_input": "2024-04-20T19:09:08.255434Z",
     "iopub.status.busy": "2024-04-20T19:09:08.253755Z",
     "iopub.status.idle": "2024-04-20T19:09:09.049402Z",
     "shell.execute_reply": "2024-04-20T19:09:09.047420Z",
     "shell.execute_reply.started": "2024-04-20T19:09:08.255368Z"
    }
   },
   "outputs": [],
   "source": [
    "from statsmodels.tsa.arima.model import ARIMA\n",
    "from statsmodels.tsa.statespace.sarimax import SARIMAX\n",
    "\n",
    "# Fit ARIMA model\n",
    "arima_model = ARIMA(y_train, order=(5,1,0))\n",
    "arima_model_fit = arima_model.fit()\n",
    "\n",
    "# Fit SARIMA model\n",
    "sarima_model = SARIMAX(y_train, order=(1, 1, 1), seasonal_order=(1, 1, 1, 12))\n",
    "sarima_model_fit = sarima_model.fit()\n"
   ]
  },
  {
   "cell_type": "code",
   "execution_count": 31,
   "metadata": {
    "execution": {
     "iopub.execute_input": "2024-04-20T19:09:09.054588Z",
     "iopub.status.busy": "2024-04-20T19:09:09.052255Z",
     "iopub.status.idle": "2024-04-20T19:09:09.139793Z",
     "shell.execute_reply": "2024-04-20T19:09:09.137363Z",
     "shell.execute_reply.started": "2024-04-20T19:09:09.054497Z"
    }
   },
   "outputs": [
    {
     "data": {
      "text/html": [
       "<table class=\"simpletable\">\n",
       "<caption>SARIMAX Results</caption>\n",
       "<tr>\n",
       "  <th>Dep. Variable:</th>           <td>y</td>        <th>  No. Observations:  </th>    <td>38</td>   \n",
       "</tr>\n",
       "<tr>\n",
       "  <th>Model:</th>            <td>ARIMA(5, 1, 0)</td>  <th>  Log Likelihood     </th> <td>-389.499</td>\n",
       "</tr>\n",
       "<tr>\n",
       "  <th>Date:</th>            <td>Sun, 21 Apr 2024</td> <th>  AIC                </th>  <td>790.999</td>\n",
       "</tr>\n",
       "<tr>\n",
       "  <th>Time:</th>                <td>00:45:25</td>     <th>  BIC                </th>  <td>800.664</td>\n",
       "</tr>\n",
       "<tr>\n",
       "  <th>Sample:</th>                  <td>0</td>        <th>  HQIC               </th>  <td>794.407</td>\n",
       "</tr>\n",
       "<tr>\n",
       "  <th></th>                       <td> - 38</td>      <th>                     </th>     <td> </td>   \n",
       "</tr>\n",
       "<tr>\n",
       "  <th>Covariance Type:</th>        <td>opg</td>       <th>                     </th>     <td> </td>   \n",
       "</tr>\n",
       "</table>\n",
       "<table class=\"simpletable\">\n",
       "<tr>\n",
       "     <td></td>       <th>coef</th>     <th>std err</th>      <th>z</th>      <th>P>|z|</th>  <th>[0.025</th>    <th>0.975]</th>  \n",
       "</tr>\n",
       "<tr>\n",
       "  <th>ar.L1</th>  <td>   -0.6002</td> <td>    0.244</td> <td>   -2.465</td> <td> 0.014</td> <td>   -1.078</td> <td>   -0.123</td>\n",
       "</tr>\n",
       "<tr>\n",
       "  <th>ar.L2</th>  <td>   -0.4840</td> <td>    0.292</td> <td>   -1.658</td> <td> 0.097</td> <td>   -1.056</td> <td>    0.088</td>\n",
       "</tr>\n",
       "<tr>\n",
       "  <th>ar.L3</th>  <td>   -0.2185</td> <td>    0.315</td> <td>   -0.695</td> <td> 0.487</td> <td>   -0.835</td> <td>    0.398</td>\n",
       "</tr>\n",
       "<tr>\n",
       "  <th>ar.L4</th>  <td>   -0.2700</td> <td>    0.392</td> <td>   -0.689</td> <td> 0.491</td> <td>   -1.038</td> <td>    0.498</td>\n",
       "</tr>\n",
       "<tr>\n",
       "  <th>ar.L5</th>  <td>   -0.3323</td> <td>    0.247</td> <td>   -1.346</td> <td> 0.178</td> <td>   -0.816</td> <td>    0.152</td>\n",
       "</tr>\n",
       "<tr>\n",
       "  <th>sigma2</th> <td> 8.595e+07</td> <td> 1.13e-09</td> <td> 7.62e+16</td> <td> 0.000</td> <td>  8.6e+07</td> <td>  8.6e+07</td>\n",
       "</tr>\n",
       "</table>\n",
       "<table class=\"simpletable\">\n",
       "<tr>\n",
       "  <th>Ljung-Box (L1) (Q):</th>     <td>0.00</td> <th>  Jarque-Bera (JB):  </th> <td>0.90</td>\n",
       "</tr>\n",
       "<tr>\n",
       "  <th>Prob(Q):</th>                <td>0.96</td> <th>  Prob(JB):          </th> <td>0.64</td>\n",
       "</tr>\n",
       "<tr>\n",
       "  <th>Heteroskedasticity (H):</th> <td>1.80</td> <th>  Skew:              </th> <td>0.20</td>\n",
       "</tr>\n",
       "<tr>\n",
       "  <th>Prob(H) (two-sided):</th>    <td>0.32</td> <th>  Kurtosis:          </th> <td>2.35</td>\n",
       "</tr>\n",
       "</table><br/><br/>Warnings:<br/>[1] Covariance matrix calculated using the outer product of gradients (complex-step).<br/>[2] Covariance matrix is singular or near-singular, with condition number 1.17e+33. Standard errors may be unstable."
      ],
      "text/plain": [
       "<class 'statsmodels.iolib.summary.Summary'>\n",
       "\"\"\"\n",
       "                               SARIMAX Results                                \n",
       "==============================================================================\n",
       "Dep. Variable:                      y   No. Observations:                   38\n",
       "Model:                 ARIMA(5, 1, 0)   Log Likelihood                -389.499\n",
       "Date:                Sun, 21 Apr 2024   AIC                            790.999\n",
       "Time:                        00:45:25   BIC                            800.664\n",
       "Sample:                             0   HQIC                           794.407\n",
       "                                 - 38                                         \n",
       "Covariance Type:                  opg                                         \n",
       "==============================================================================\n",
       "                 coef    std err          z      P>|z|      [0.025      0.975]\n",
       "------------------------------------------------------------------------------\n",
       "ar.L1         -0.6002      0.244     -2.465      0.014      -1.078      -0.123\n",
       "ar.L2         -0.4840      0.292     -1.658      0.097      -1.056       0.088\n",
       "ar.L3         -0.2185      0.315     -0.695      0.487      -0.835       0.398\n",
       "ar.L4         -0.2700      0.392     -0.689      0.491      -1.038       0.498\n",
       "ar.L5         -0.3323      0.247     -1.346      0.178      -0.816       0.152\n",
       "sigma2      8.595e+07   1.13e-09   7.62e+16      0.000     8.6e+07     8.6e+07\n",
       "===================================================================================\n",
       "Ljung-Box (L1) (Q):                   0.00   Jarque-Bera (JB):                 0.90\n",
       "Prob(Q):                              0.96   Prob(JB):                         0.64\n",
       "Heteroskedasticity (H):               1.80   Skew:                             0.20\n",
       "Prob(H) (two-sided):                  0.32   Kurtosis:                         2.35\n",
       "===================================================================================\n",
       "\n",
       "Warnings:\n",
       "[1] Covariance matrix calculated using the outer product of gradients (complex-step).\n",
       "[2] Covariance matrix is singular or near-singular, with condition number 1.17e+33. Standard errors may be unstable.\n",
       "\"\"\""
      ]
     },
     "execution_count": 31,
     "metadata": {},
     "output_type": "execute_result"
    }
   ],
   "source": [
    "arima_model_fit.summary()"
   ]
  },
  {
   "cell_type": "code",
   "execution_count": 32,
   "metadata": {
    "execution": {
     "iopub.execute_input": "2024-04-20T19:09:09.145916Z",
     "iopub.status.busy": "2024-04-20T19:09:09.143718Z",
     "iopub.status.idle": "2024-04-20T19:09:09.189034Z",
     "shell.execute_reply": "2024-04-20T19:09:09.187513Z",
     "shell.execute_reply.started": "2024-04-20T19:09:09.145830Z"
    }
   },
   "outputs": [
    {
     "data": {
      "text/html": [
       "<table class=\"simpletable\">\n",
       "<caption>SARIMAX Results</caption>\n",
       "<tr>\n",
       "  <th>Dep. Variable:</th>                  <td>y</td>               <th>  No. Observations:  </th>    <td>38</td>   \n",
       "</tr>\n",
       "<tr>\n",
       "  <th>Model:</th>           <td>SARIMAX(1, 1, 1)x(1, 1, 1, 12)</td> <th>  Log Likelihood     </th> <td>-250.029</td>\n",
       "</tr>\n",
       "<tr>\n",
       "  <th>Date:</th>                   <td>Sun, 21 Apr 2024</td>        <th>  AIC                </th>  <td>510.059</td>\n",
       "</tr>\n",
       "<tr>\n",
       "  <th>Time:</th>                       <td>00:45:25</td>            <th>  BIC                </th>  <td>516.153</td>\n",
       "</tr>\n",
       "<tr>\n",
       "  <th>Sample:</th>                         <td>0</td>               <th>  HQIC               </th>  <td>511.749</td>\n",
       "</tr>\n",
       "<tr>\n",
       "  <th></th>                              <td> - 38</td>             <th>                     </th>     <td> </td>   \n",
       "</tr>\n",
       "<tr>\n",
       "  <th>Covariance Type:</th>               <td>opg</td>              <th>                     </th>     <td> </td>   \n",
       "</tr>\n",
       "</table>\n",
       "<table class=\"simpletable\">\n",
       "<tr>\n",
       "      <td></td>        <th>coef</th>     <th>std err</th>      <th>z</th>      <th>P>|z|</th>  <th>[0.025</th>    <th>0.975]</th>  \n",
       "</tr>\n",
       "<tr>\n",
       "  <th>ar.L1</th>    <td>    0.4772</td> <td>    0.199</td> <td>    2.393</td> <td> 0.017</td> <td>    0.086</td> <td>    0.868</td>\n",
       "</tr>\n",
       "<tr>\n",
       "  <th>ma.L1</th>    <td>   -0.8593</td> <td>    0.175</td> <td>   -4.922</td> <td> 0.000</td> <td>   -1.201</td> <td>   -0.517</td>\n",
       "</tr>\n",
       "<tr>\n",
       "  <th>ar.S.L12</th> <td>   -0.9847</td> <td>    0.178</td> <td>   -5.546</td> <td> 0.000</td> <td>   -1.333</td> <td>   -0.637</td>\n",
       "</tr>\n",
       "<tr>\n",
       "  <th>ma.S.L12</th> <td>    0.9012</td> <td>    0.591</td> <td>    1.526</td> <td> 0.127</td> <td>   -0.256</td> <td>    2.059</td>\n",
       "</tr>\n",
       "<tr>\n",
       "  <th>sigma2</th>   <td> 2.609e+07</td> <td> 3.49e-08</td> <td> 7.48e+14</td> <td> 0.000</td> <td> 2.61e+07</td> <td> 2.61e+07</td>\n",
       "</tr>\n",
       "</table>\n",
       "<table class=\"simpletable\">\n",
       "<tr>\n",
       "  <th>Ljung-Box (L1) (Q):</th>     <td>4.27</td> <th>  Jarque-Bera (JB):  </th> <td>0.40</td>\n",
       "</tr>\n",
       "<tr>\n",
       "  <th>Prob(Q):</th>                <td>0.04</td> <th>  Prob(JB):          </th> <td>0.82</td>\n",
       "</tr>\n",
       "<tr>\n",
       "  <th>Heteroskedasticity (H):</th> <td>0.80</td> <th>  Skew:              </th> <td>0.22</td>\n",
       "</tr>\n",
       "<tr>\n",
       "  <th>Prob(H) (two-sided):</th>    <td>0.75</td> <th>  Kurtosis:          </th> <td>2.56</td>\n",
       "</tr>\n",
       "</table><br/><br/>Warnings:<br/>[1] Covariance matrix calculated using the outer product of gradients (complex-step).<br/>[2] Covariance matrix is singular or near-singular, with condition number 9.72e+31. Standard errors may be unstable."
      ],
      "text/plain": [
       "<class 'statsmodels.iolib.summary.Summary'>\n",
       "\"\"\"\n",
       "                                     SARIMAX Results                                      \n",
       "==========================================================================================\n",
       "Dep. Variable:                                  y   No. Observations:                   38\n",
       "Model:             SARIMAX(1, 1, 1)x(1, 1, 1, 12)   Log Likelihood                -250.029\n",
       "Date:                            Sun, 21 Apr 2024   AIC                            510.059\n",
       "Time:                                    00:45:25   BIC                            516.153\n",
       "Sample:                                         0   HQIC                           511.749\n",
       "                                             - 38                                         \n",
       "Covariance Type:                              opg                                         \n",
       "==============================================================================\n",
       "                 coef    std err          z      P>|z|      [0.025      0.975]\n",
       "------------------------------------------------------------------------------\n",
       "ar.L1          0.4772      0.199      2.393      0.017       0.086       0.868\n",
       "ma.L1         -0.8593      0.175     -4.922      0.000      -1.201      -0.517\n",
       "ar.S.L12      -0.9847      0.178     -5.546      0.000      -1.333      -0.637\n",
       "ma.S.L12       0.9012      0.591      1.526      0.127      -0.256       2.059\n",
       "sigma2      2.609e+07   3.49e-08   7.48e+14      0.000    2.61e+07    2.61e+07\n",
       "===================================================================================\n",
       "Ljung-Box (L1) (Q):                   4.27   Jarque-Bera (JB):                 0.40\n",
       "Prob(Q):                              0.04   Prob(JB):                         0.82\n",
       "Heteroskedasticity (H):               0.80   Skew:                             0.22\n",
       "Prob(H) (two-sided):                  0.75   Kurtosis:                         2.56\n",
       "===================================================================================\n",
       "\n",
       "Warnings:\n",
       "[1] Covariance matrix calculated using the outer product of gradients (complex-step).\n",
       "[2] Covariance matrix is singular or near-singular, with condition number 9.72e+31. Standard errors may be unstable.\n",
       "\"\"\""
      ]
     },
     "execution_count": 32,
     "metadata": {},
     "output_type": "execute_result"
    }
   ],
   "source": [
    "sarima_model_fit.summary()"
   ]
  },
  {
   "cell_type": "markdown",
   "metadata": {},
   "source": [
    "# Forecasting"
   ]
  },
  {
   "cell_type": "code",
   "execution_count": 33,
   "metadata": {
    "execution": {
     "iopub.execute_input": "2024-04-20T19:09:09.192118Z",
     "iopub.status.busy": "2024-04-20T19:09:09.191037Z",
     "iopub.status.idle": "2024-04-20T19:09:09.559123Z",
     "shell.execute_reply": "2024-04-20T19:09:09.557638Z",
     "shell.execute_reply.started": "2024-04-20T19:09:09.192072Z"
    }
   },
   "outputs": [
    {
     "data": {
      "image/png": "[encoded data removed]",
      "text/plain": [
       "<Figure size 720x432 with 1 Axes>"
      ]
     },
     "metadata": {
      "needs_background": "light"
     },
     "output_type": "display_data"
    }
   ],
   "source": [
    "arima_predictions = arima_model_fit.forecast(steps=len(X_test))\n",
    "sarima_predictions = sarima_model_fit.forecast(steps=len(X_test))\n",
    "# Plot predictions\n",
    "plt.figure(figsize=(10, 6))\n",
    "plt.plot(X_train, y_train, label='Train')\n",
    "plt.plot(X_test, y_test, label='Test')\n",
    "plt.plot(X_test, arima_predictions, label='ARIMA Predictions')\n",
    "plt.plot(X_test, sarima_predictions, label='SARIMA Predictions')\n",
    "plt.title('Sales Forecasting with ARIMA and SARIMA')\n",
    "plt.xlabel('Months')\n",
    "plt.ylabel('Sales')\n",
    "plt.legend()\n",
    "plt.grid(True)\n",
    "plt.show()\n"
   ]
  },
  {
   "cell_type": "markdown",
   "metadata": {},
   "source": [
    "# Conclusion\n",
    "From the plot, we can observe that the SARIMA model (red line) provides better forecasts compared to the ARIMA model (green line). \n",
    "The SARIMA predictions closely follow the actual sales trend, capturing both the overall pattern and the peaks in the data more accurately than the ARIMA model. This suggests that the SARIMA model, which incorporates seasonality into its forecasting process, is more suitable for capturing the complex patterns present in the sales data."
   ]
  }
 ],
 "metadata": {
  "kaggle": {
   "accelerator": "none",
   "dataSources": [
    {
     "datasetId": 4784430,
     "sourceId": 8101527,
     "sourceType": "datasetVersion"
    }
   ],
   "dockerImageVersionId": 30684,
   "isGpuEnabled": false,
   "isInternetEnabled": true,
   "language": "python",
   "sourceType": "notebook"
  },
  "kernelspec": {
   "display_name": "Python 3 (ipykernel)",
   "language": "python",
   "name": "python3"
  },
  "language_info": {
   "codemirror_mode": {
    "name": "ipython",
    "version": 3
   },
   "file_extension": ".py",
   "mimetype": "text/x-python",
   "name": "python",
   "nbconvert_exporter": "python",
   "pygments_lexer": "ipython3",
   "version": "3.9.12"
  }
 },
 "nbformat": 4,
 "nbformat_minor": 4
}
